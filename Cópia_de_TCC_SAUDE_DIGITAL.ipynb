{
  "nbformat": 4,
  "nbformat_minor": 0,
  "metadata": {
    "colab": {
      "name": "Cópia de TCC_SAUDE_DIGITAL.ipynb",
      "provenance": [],
      "collapsed_sections": [],
      "authorship_tag": "ABX9TyOQIMKm2JUkYD85xICqUhOV",
      "include_colab_link": true
    },
    "kernelspec": {
      "name": "python3",
      "display_name": "Python 3"
    },
    "language_info": {
      "name": "python"
    }
  },
  "cells": [
    {
      "cell_type": "markdown",
      "metadata": {
        "id": "view-in-github",
        "colab_type": "text"
      },
      "source": [
        "<a href=\"https://colab.research.google.com/github/antovila/tratamentoSRAG_AM/blob/main/C%C3%B3pia_de_TCC_SAUDE_DIGITAL.ipynb\" target=\"_parent\"><img src=\"https://colab.research.google.com/assets/colab-badge.svg\" alt=\"Open In Colab\"/></a>"
      ]
    },
    {
      "cell_type": "markdown",
      "metadata": {
        "id": "Yo8xLDQ5ojT1"
      },
      "source": [
        "***INICIANDO COLETA DADOS PARA ANALISE EM SAUDE DIGITAL - TCC ***"
      ]
    },
    {
      "cell_type": "code",
      "metadata": {
        "colab": {
          "base_uri": "https://localhost:8080/"
        },
        "id": "tLM3_NFQB4-B",
        "outputId": "b9d16357-58bc-40de-feb9-c6bf41fa44c5"
      },
      "source": [
        "#AQUI COLOCA O CAMINHO DA BASE\n",
        "#sites onde ocorreram os downloads das bases \n",
        "#SRAG : https://dados.gov.br/dataset/bd-srag-2020\n",
        "#CNES : https://cnes.datasus.gov.br/pages/downloads/arquivosBaseDados.jsp\n",
        "\n",
        "caminho='/content/drive/MyDrive/colab/baseTCC/INFLUD20-28-02-2022.csv'\n",
        "caminho_CNES='/content/drive/MyDrive/colab/baseTCC/tbEstabelecimento202202.csv'\n",
        "\n",
        "from google.colab import drive\n",
        "drive.mount('/content/drive', force_remount=True)"
      ],
      "execution_count": 1,
      "outputs": [
        {
          "output_type": "stream",
          "name": "stdout",
          "text": [
            "Mounted at /content/drive\n"
          ]
        }
      ]
    },
    {
      "cell_type": "markdown",
      "metadata": {
        "id": "sj9lyOvGjMvQ"
      },
      "source": [
        "**base : tipo dataframe refere-se a base normal SRAG** \n",
        "**base_CNES : tipo dataframe contendo informacoes dos esabelecimentos**"
      ]
    },
    {
      "cell_type": "code",
      "metadata": {
        "colab": {
          "base_uri": "https://localhost:8080/"
        },
        "id": "qSGWGKyFjkaU",
        "outputId": "f9ee7e22-31ed-4fc9-d8f3-1d3ab1ad3d6e"
      },
      "source": [
        "import pandas as pd\n",
        "base = pd.read_csv(caminho, sep=';')\n",
        "base_CNES = pd.read_csv(caminho_CNES,sep=';')\n",
        "base['DT_NOTIFIC']=pd.to_datetime(base['DT_NOTIFIC'])\n",
        "base['DT_EVOLUCA']=pd.to_datetime(base['DT_EVOLUCA'])\n",
        "base['DT_SIN_PRI']=pd.to_datetime(base['DT_SIN_PRI'])\n",
        "base['DT_RES']=pd.to_datetime(base['DT_RES'],errors='coerce')\n",
        "base['DT_INTERNA']=pd.to_datetime(base['DT_INTERNA'],errors='coerce')\n",
        "\n",
        "base['DT_ENTUTI']=pd.to_datetime(base['DT_ENTUTI'],errors='coerce')\n",
        "base['DT_SAIDUTI']=pd.to_datetime(base['DT_SAIDUTI'])\n",
        "base['DT_RAIOX']=pd.to_datetime(base['DT_RAIOX'],errors='coerce')\n",
        "base['DT_PCR']=pd.to_datetime(base['DT_PCR'])\n",
        "base['DT_COLETA']=pd.to_datetime(base['DT_COLETA'],errors='coerce')\n",
        "base['DT_ENCERRA']=pd.to_datetime(base['DT_ENCERRA'])\n",
        "base['DT_DIGITA']=pd.to_datetime(base['DT_DIGITA'])\n",
        "base['CLASSI_FIN']=pd.to_numeric(base['CLASSI_FIN'])\n",
        "base_CNES['CO_NATUREZA_JUR']=pd.to_numeric(base_CNES['CO_NATUREZA_JUR'])\n",
        "debugBASE = 0\n",
        "debug_mortos_covid_brasil = 0\n",
        "debugFILTRO2020 = 0\n",
        "#AM_casos = 0\n",
        "#morte_AM_total = 0\n",
        "#morte_AM_total_publico = 0\n",
        "#morte_AM_total_privado = 0"
      ],
      "execution_count": 2,
      "outputs": [
        {
          "output_type": "stream",
          "name": "stderr",
          "text": [
            "/usr/local/lib/python3.7/dist-packages/IPython/core/interactiveshell.py:2882: DtypeWarning: Columns (15,59,61,62,63,91,93,105,107,114,116,117,118,122) have mixed types.Specify dtype option on import or set low_memory=False.\n",
            "  exec(code_obj, self.user_global_ns, self.user_ns)\n",
            "/usr/local/lib/python3.7/dist-packages/IPython/core/interactiveshell.py:2882: DtypeWarning: Columns (0,36,45) have mixed types.Specify dtype option on import or set low_memory=False.\n",
            "  exec(code_obj, self.user_global_ns, self.user_ns)\n"
          ]
        }
      ]
    },
    {
      "cell_type": "markdown",
      "metadata": {
        "id": "V1CxAyKoj780"
      },
      "source": [
        "**base_2020_SRAG: tipo dataframe refere-se a base filtrada apenas pro ano de 2020 na data de evolução(todos que evoluiram pra morte em 2020**"
      ]
    },
    {
      "cell_type": "code",
      "source": [
        "debugBASE = base.shape[0]\n",
        "base_2020_SRAG = base[(base['DT_EVOLUCA']>=\"2020-01-01\")&(base['DT_EVOLUCA']<=\"2020-12-31\")&(base['SG_UF_NOT']==\"AM\")&(base['CLASSI_FIN']==5)&(base['EVOLUCAO']==2)]\n",
        "#base_2020_SRAG[['DT_NOTIFIC','DT_SIN_PRI','DT_INTERNA','DT_ENTUTI','DT_SAIDUTI','DT_RAIOX','DT_COLETA','DT_PCR','DT_EVOLUCA','DT_ENCERRA','DT_DIGITA','DT_VGM','DT_RT_VGM','DT_TOMO','DT_RES_AN','DT_CO_SOR','DT_RES']]\n",
        "base_2020_SRAG.to_csv('/content/drive/MyDrive/colab/baseTCC/div_base2020_AM_MORTOS_COVID.csv')\n",
        "base_2020_SRAG[['DT_INTERNA','DT_ENTUTI','DT_SAIDUTI','DT_RAIOX','DT_COLETA','DT_PCR','DT_EVOLUCA','DT_ENCERRA','DT_RES']]\n",
        "#base_2020_SRAG['DT_NOTIFIC'].isna().sum()"
      ],
      "metadata": {
        "id": "vDmr2Fjxmuzj",
        "colab": {
          "base_uri": "https://localhost:8080/",
          "height": 424
        },
        "outputId": "e3cb9a98-ee4e-4924-b3eb-14c23efe9628"
      },
      "execution_count": 7,
      "outputs": [
        {
          "output_type": "execute_result",
          "data": {
            "text/plain": [
              "        DT_INTERNA  DT_ENTUTI DT_SAIDUTI   DT_RAIOX  DT_COLETA     DT_PCR  \\\n",
              "244     2020-04-21 2020-04-21 2020-04-28        NaT 2020-04-21 2020-01-05   \n",
              "299     2020-12-04 2020-12-04 2020-05-05        NaT 2020-04-13        NaT   \n",
              "355     2020-04-24        NaT        NaT        NaT        NaT        NaT   \n",
              "407     2020-04-19        NaT        NaT        NaT        NaT        NaT   \n",
              "443     2020-01-05        NaT        NaT        NaT        NaT        NaT   \n",
              "...            ...        ...        ...        ...        ...        ...   \n",
              "1197690        NaT        NaT        NaT        NaT 2020-07-27 2020-07-30   \n",
              "1198417 2020-12-18 2020-12-18 2020-12-23 2020-12-17        NaT 2020-12-19   \n",
              "1198927 2020-08-20 2020-09-21 2020-11-13        NaT 2020-08-20        NaT   \n",
              "1198966        NaT        NaT        NaT        NaT 2020-06-10 2020-07-10   \n",
              "1199604 2020-12-24        NaT        NaT 2020-12-24        NaT        NaT   \n",
              "\n",
              "        DT_EVOLUCA DT_ENCERRA     DT_RES  \n",
              "244     2020-04-28 2020-01-05        NaT  \n",
              "299     2020-05-05 2020-10-06        NaT  \n",
              "355     2020-04-26 2020-05-27        NaT  \n",
              "407     2020-04-19 2020-08-17        NaT  \n",
              "443     2020-01-05 2020-07-05        NaT  \n",
              "...            ...        ...        ...  \n",
              "1197690 2020-07-27 2020-01-12        NaT  \n",
              "1198417 2020-12-23 2020-12-24        NaT  \n",
              "1198927 2020-11-14 2020-11-16 2020-08-20  \n",
              "1198966 2020-06-10 2020-10-16        NaT  \n",
              "1199604 2020-12-26 2021-01-18        NaT  \n",
              "\n",
              "[5421 rows x 9 columns]"
            ],
            "text/html": [
              "\n",
              "  <div id=\"df-c9ddffde-c5c6-471c-8d1e-aa1c9e8fdc37\">\n",
              "    <div class=\"colab-df-container\">\n",
              "      <div>\n",
              "<style scoped>\n",
              "    .dataframe tbody tr th:only-of-type {\n",
              "        vertical-align: middle;\n",
              "    }\n",
              "\n",
              "    .dataframe tbody tr th {\n",
              "        vertical-align: top;\n",
              "    }\n",
              "\n",
              "    .dataframe thead th {\n",
              "        text-align: right;\n",
              "    }\n",
              "</style>\n",
              "<table border=\"1\" class=\"dataframe\">\n",
              "  <thead>\n",
              "    <tr style=\"text-align: right;\">\n",
              "      <th></th>\n",
              "      <th>DT_INTERNA</th>\n",
              "      <th>DT_ENTUTI</th>\n",
              "      <th>DT_SAIDUTI</th>\n",
              "      <th>DT_RAIOX</th>\n",
              "      <th>DT_COLETA</th>\n",
              "      <th>DT_PCR</th>\n",
              "      <th>DT_EVOLUCA</th>\n",
              "      <th>DT_ENCERRA</th>\n",
              "      <th>DT_RES</th>\n",
              "    </tr>\n",
              "  </thead>\n",
              "  <tbody>\n",
              "    <tr>\n",
              "      <th>244</th>\n",
              "      <td>2020-04-21</td>\n",
              "      <td>2020-04-21</td>\n",
              "      <td>2020-04-28</td>\n",
              "      <td>NaT</td>\n",
              "      <td>2020-04-21</td>\n",
              "      <td>2020-01-05</td>\n",
              "      <td>2020-04-28</td>\n",
              "      <td>2020-01-05</td>\n",
              "      <td>NaT</td>\n",
              "    </tr>\n",
              "    <tr>\n",
              "      <th>299</th>\n",
              "      <td>2020-12-04</td>\n",
              "      <td>2020-12-04</td>\n",
              "      <td>2020-05-05</td>\n",
              "      <td>NaT</td>\n",
              "      <td>2020-04-13</td>\n",
              "      <td>NaT</td>\n",
              "      <td>2020-05-05</td>\n",
              "      <td>2020-10-06</td>\n",
              "      <td>NaT</td>\n",
              "    </tr>\n",
              "    <tr>\n",
              "      <th>355</th>\n",
              "      <td>2020-04-24</td>\n",
              "      <td>NaT</td>\n",
              "      <td>NaT</td>\n",
              "      <td>NaT</td>\n",
              "      <td>NaT</td>\n",
              "      <td>NaT</td>\n",
              "      <td>2020-04-26</td>\n",
              "      <td>2020-05-27</td>\n",
              "      <td>NaT</td>\n",
              "    </tr>\n",
              "    <tr>\n",
              "      <th>407</th>\n",
              "      <td>2020-04-19</td>\n",
              "      <td>NaT</td>\n",
              "      <td>NaT</td>\n",
              "      <td>NaT</td>\n",
              "      <td>NaT</td>\n",
              "      <td>NaT</td>\n",
              "      <td>2020-04-19</td>\n",
              "      <td>2020-08-17</td>\n",
              "      <td>NaT</td>\n",
              "    </tr>\n",
              "    <tr>\n",
              "      <th>443</th>\n",
              "      <td>2020-01-05</td>\n",
              "      <td>NaT</td>\n",
              "      <td>NaT</td>\n",
              "      <td>NaT</td>\n",
              "      <td>NaT</td>\n",
              "      <td>NaT</td>\n",
              "      <td>2020-01-05</td>\n",
              "      <td>2020-07-05</td>\n",
              "      <td>NaT</td>\n",
              "    </tr>\n",
              "    <tr>\n",
              "      <th>...</th>\n",
              "      <td>...</td>\n",
              "      <td>...</td>\n",
              "      <td>...</td>\n",
              "      <td>...</td>\n",
              "      <td>...</td>\n",
              "      <td>...</td>\n",
              "      <td>...</td>\n",
              "      <td>...</td>\n",
              "      <td>...</td>\n",
              "    </tr>\n",
              "    <tr>\n",
              "      <th>1197690</th>\n",
              "      <td>NaT</td>\n",
              "      <td>NaT</td>\n",
              "      <td>NaT</td>\n",
              "      <td>NaT</td>\n",
              "      <td>2020-07-27</td>\n",
              "      <td>2020-07-30</td>\n",
              "      <td>2020-07-27</td>\n",
              "      <td>2020-01-12</td>\n",
              "      <td>NaT</td>\n",
              "    </tr>\n",
              "    <tr>\n",
              "      <th>1198417</th>\n",
              "      <td>2020-12-18</td>\n",
              "      <td>2020-12-18</td>\n",
              "      <td>2020-12-23</td>\n",
              "      <td>2020-12-17</td>\n",
              "      <td>NaT</td>\n",
              "      <td>2020-12-19</td>\n",
              "      <td>2020-12-23</td>\n",
              "      <td>2020-12-24</td>\n",
              "      <td>NaT</td>\n",
              "    </tr>\n",
              "    <tr>\n",
              "      <th>1198927</th>\n",
              "      <td>2020-08-20</td>\n",
              "      <td>2020-09-21</td>\n",
              "      <td>2020-11-13</td>\n",
              "      <td>NaT</td>\n",
              "      <td>2020-08-20</td>\n",
              "      <td>NaT</td>\n",
              "      <td>2020-11-14</td>\n",
              "      <td>2020-11-16</td>\n",
              "      <td>2020-08-20</td>\n",
              "    </tr>\n",
              "    <tr>\n",
              "      <th>1198966</th>\n",
              "      <td>NaT</td>\n",
              "      <td>NaT</td>\n",
              "      <td>NaT</td>\n",
              "      <td>NaT</td>\n",
              "      <td>2020-06-10</td>\n",
              "      <td>2020-07-10</td>\n",
              "      <td>2020-06-10</td>\n",
              "      <td>2020-10-16</td>\n",
              "      <td>NaT</td>\n",
              "    </tr>\n",
              "    <tr>\n",
              "      <th>1199604</th>\n",
              "      <td>2020-12-24</td>\n",
              "      <td>NaT</td>\n",
              "      <td>NaT</td>\n",
              "      <td>2020-12-24</td>\n",
              "      <td>NaT</td>\n",
              "      <td>NaT</td>\n",
              "      <td>2020-12-26</td>\n",
              "      <td>2021-01-18</td>\n",
              "      <td>NaT</td>\n",
              "    </tr>\n",
              "  </tbody>\n",
              "</table>\n",
              "<p>5421 rows × 9 columns</p>\n",
              "</div>\n",
              "      <button class=\"colab-df-convert\" onclick=\"convertToInteractive('df-c9ddffde-c5c6-471c-8d1e-aa1c9e8fdc37')\"\n",
              "              title=\"Convert this dataframe to an interactive table.\"\n",
              "              style=\"display:none;\">\n",
              "        \n",
              "  <svg xmlns=\"http://www.w3.org/2000/svg\" height=\"24px\"viewBox=\"0 0 24 24\"\n",
              "       width=\"24px\">\n",
              "    <path d=\"M0 0h24v24H0V0z\" fill=\"none\"/>\n",
              "    <path d=\"M18.56 5.44l.94 2.06.94-2.06 2.06-.94-2.06-.94-.94-2.06-.94 2.06-2.06.94zm-11 1L8.5 8.5l.94-2.06 2.06-.94-2.06-.94L8.5 2.5l-.94 2.06-2.06.94zm10 10l.94 2.06.94-2.06 2.06-.94-2.06-.94-.94-2.06-.94 2.06-2.06.94z\"/><path d=\"M17.41 7.96l-1.37-1.37c-.4-.4-.92-.59-1.43-.59-.52 0-1.04.2-1.43.59L10.3 9.45l-7.72 7.72c-.78.78-.78 2.05 0 2.83L4 21.41c.39.39.9.59 1.41.59.51 0 1.02-.2 1.41-.59l7.78-7.78 2.81-2.81c.8-.78.8-2.07 0-2.86zM5.41 20L4 18.59l7.72-7.72 1.47 1.35L5.41 20z\"/>\n",
              "  </svg>\n",
              "      </button>\n",
              "      \n",
              "  <style>\n",
              "    .colab-df-container {\n",
              "      display:flex;\n",
              "      flex-wrap:wrap;\n",
              "      gap: 12px;\n",
              "    }\n",
              "\n",
              "    .colab-df-convert {\n",
              "      background-color: #E8F0FE;\n",
              "      border: none;\n",
              "      border-radius: 50%;\n",
              "      cursor: pointer;\n",
              "      display: none;\n",
              "      fill: #1967D2;\n",
              "      height: 32px;\n",
              "      padding: 0 0 0 0;\n",
              "      width: 32px;\n",
              "    }\n",
              "\n",
              "    .colab-df-convert:hover {\n",
              "      background-color: #E2EBFA;\n",
              "      box-shadow: 0px 1px 2px rgba(60, 64, 67, 0.3), 0px 1px 3px 1px rgba(60, 64, 67, 0.15);\n",
              "      fill: #174EA6;\n",
              "    }\n",
              "\n",
              "    [theme=dark] .colab-df-convert {\n",
              "      background-color: #3B4455;\n",
              "      fill: #D2E3FC;\n",
              "    }\n",
              "\n",
              "    [theme=dark] .colab-df-convert:hover {\n",
              "      background-color: #434B5C;\n",
              "      box-shadow: 0px 1px 3px 1px rgba(0, 0, 0, 0.15);\n",
              "      filter: drop-shadow(0px 1px 2px rgba(0, 0, 0, 0.3));\n",
              "      fill: #FFFFFF;\n",
              "    }\n",
              "  </style>\n",
              "\n",
              "      <script>\n",
              "        const buttonEl =\n",
              "          document.querySelector('#df-c9ddffde-c5c6-471c-8d1e-aa1c9e8fdc37 button.colab-df-convert');\n",
              "        buttonEl.style.display =\n",
              "          google.colab.kernel.accessAllowed ? 'block' : 'none';\n",
              "\n",
              "        async function convertToInteractive(key) {\n",
              "          const element = document.querySelector('#df-c9ddffde-c5c6-471c-8d1e-aa1c9e8fdc37');\n",
              "          const dataTable =\n",
              "            await google.colab.kernel.invokeFunction('convertToInteractive',\n",
              "                                                     [key], {});\n",
              "          if (!dataTable) return;\n",
              "\n",
              "          const docLinkHtml = 'Like what you see? Visit the ' +\n",
              "            '<a target=\"_blank\" href=https://colab.research.google.com/notebooks/data_table.ipynb>data table notebook</a>'\n",
              "            + ' to learn more about interactive tables.';\n",
              "          element.innerHTML = '';\n",
              "          dataTable['output_type'] = 'display_data';\n",
              "          await google.colab.output.renderOutput(dataTable, element);\n",
              "          const docLink = document.createElement('div');\n",
              "          docLink.innerHTML = docLinkHtml;\n",
              "          element.appendChild(docLink);\n",
              "        }\n",
              "      </script>\n",
              "    </div>\n",
              "  </div>\n",
              "  "
            ]
          },
          "metadata": {},
          "execution_count": 7
        }
      ]
    },
    {
      "cell_type": "code",
      "metadata": {
        "id": "MkOIo2H1kIQc"
      },
      "source": [
        "from numpy import NaN\n",
        "#funcoes\n",
        "#FUNCAO QUE DETECTA INCONSISTENCIA COMPARANDO DATAS INFERIORES AO PRIMEIRO OBITO NO AMAZONAS NA DATA DE EVOLUCAO\n",
        "# E CORRIGE A DATA DE EVOLUCAO DO REGISTRO DO PACIENTE COM OUTRA DATA POSSIVEL DENTRO DO REGISTRO\n",
        "from datetime import datetime\n",
        "def f(row):  \n",
        "  if row['DT_EVOLUCA']< datetime(year=2020, month=3, day=24):\n",
        "    if (row['DT_PCR']!='')and(row['DT_PCR']> datetime(year=2020, month=3, day=24)) :\n",
        "      row['DT_EVOLUCA']= row['DT_PCR']\n",
        "    elif (row['DT_COLETA']!='')and(row['DT_COLETA']> datetime(year=2020, month=3, day=24)) :\n",
        "      row['DT_EVOLUCA']= row['DT_COLETA']\n",
        "    elif (row['DT_RAIOX']!='')and(row['DT_RAIOX']> datetime(year=2020, month=3, day=24)) :\n",
        "      row['DT_EVOLUCA']= row['DT_RAIOX']\n",
        "    elif (row['DT_SAIDUTI']!='')and(row['DT_SAIDUTI']> datetime(year=2020, month=3, day=24)) :\n",
        "      row['DT_EVOLUCA']= row['DT_SAIDUTI']\n",
        "    elif (row['DT_ENTUTI']!='')and(row['DT_ENTUTI']> datetime(year=2020, month=3, day=24)) :\n",
        "      row['DT_EVOLUCA']= row['DT_ENTUTI']\n",
        "    elif (row['DT_INTERNA']!='')and(row['DT_INTERNA']> datetime(year=2020, month=3, day=24)) :\n",
        "      row['DT_EVOLUCA']= row['DT_INTERNA']\n",
        "    elif (row['DT_ENCERRA']!='')and(row['DT_ENCERRA']> datetime(year=2020, month=3, day=24))and (row['DT_ENCERRA']<=datetime(year=2020,month=12,day=31)) :\n",
        "        row['DT_EVOLUCA']= row['DT_ENCERRA']\n",
        "    elif (row['DT_SIN_PRI']!='')and(row['DT_SIN_PRI']> datetime(year=2020, month=3, day=24))and (row['DT_SIN_PRI']<=datetime(year=2020,month=12,day=31)) :\n",
        "        row['DT_EVOLUCA']= row['DT_SIN_PRI']\n",
        "    elif (row['DT_DIGITA']!='')and(row['DT_DIGITA']> datetime(year=2020, month=3, day=24))and (row['DT_DIGITA']<=datetime(year=2020,month=12,day=31)) :\n",
        "        row['DT_EVOLUCA']= row['DT_DIGITA']\n",
        "    elif (row['DT_RES']!='')and(row['DT_RES']> datetime(year=2020, month=3, day=24))and (row['DT_RES']<=datetime(year=2020,month=12,day=31)) :\n",
        "        row['DT_EVOLUCA']= row['DT_RES']\n",
        "    else:\n",
        "       row['DT_EVOLUCA'] = NaN\n",
        "       \n",
        "  return row\n",
        "\n",
        "base_2020_SRAG = base_2020_SRAG.apply(f,axis=1)\n",
        "#REMOVE LINHAS QUE NAO FOI POSSIVEL CORRIGIR\n",
        "base_2020_SRAG.dropna(subset = [\"DT_EVOLUCA\"], inplace=True) \n",
        "\n",
        "#IMPRIME SRAG PARA COMPARAR AS NOVAS DATAS\n",
        "#base_2020_SRAG[['DT_INTERNA','DT_ENTUTI','DT_SAIDUTI','DT_RAIOX','DT_COLETA','DT_PCR','DT_EVOLUCA','DT_ENCERRA','DT_RES']]\n",
        "\n",
        "#função que compara as bases de SRAG e CNES para resgatar Natureza Jurídica(base_CNES['CO_CNES']) e inserir em SRAG\n",
        "def det_niveldep(cnes):\n",
        "  nume = 0\n",
        "  base_CNES_AM = base_CNES[base_CNES['CO_CNES']==cnes]\n",
        "  nume = base_CNES_AM['CO_NATUREZA_JUR'].iat[0]\n",
        "  return nume\n",
        "base_2020_SRAG['CO_NATUREZA_JUR'] = base_2020_SRAG['CO_UNI_NOT'].apply(lambda x : det_niveldep(x))\n",
        "\n",
        "# salva nova base para CSV \n",
        "#base_2020_SRAG.to_csv('/content/drive/MyDrive/colab/baseTCC/div_base_corrigida2020_FILTRO.csv')"
      ],
      "execution_count": 8,
      "outputs": []
    },
    {
      "cell_type": "code",
      "source": [
        "base_2020_SRAG.shape[0]"
      ],
      "metadata": {
        "colab": {
          "base_uri": "https://localhost:8080/"
        },
        "id": "GeBNsDLvqw-p",
        "outputId": "b800843f-cf7a-43cf-f982-fb70efb74a67"
      },
      "execution_count": 9,
      "outputs": [
        {
          "output_type": "execute_result",
          "data": {
            "text/plain": [
              "5419"
            ]
          },
          "metadata": {},
          "execution_count": 9
        }
      ]
    },
    {
      "cell_type": "code",
      "source": [
        "#mortos por covid no amazonas (MESES CORRIGIDOS)\n",
        "import calendar\n",
        "base_2020_SRAG['Month'] = base_2020_SRAG['DT_EVOLUCA'].dt.month\n",
        "months = ['Jan', 'Feb', 'Mar', 'Apr', 'May', 'Jun', 'Jul', 'Aug', 'Sep', 'Oct', 'Nov', 'Dec']\n",
        "temp = base_2020_SRAG['Month'].astype(int).apply(lambda x: calendar.month_abbr[x]).value_counts().reset_index()\n",
        "temp.set_index('index', inplace=True)\n",
        "temp = temp.reindex(index=months)\n",
        "wykres = temp.plot(kind='bar', figsize=(8,8), title=\"Mortos por COVID no Amazonas em 2020\")"
      ],
      "metadata": {
        "colab": {
          "base_uri": "https://localhost:8080/",
          "height": 523
        },
        "id": "laFcLIvHZUgX",
        "outputId": "47877df5-f9c2-4319-a154-b8bbe649a706"
      },
      "execution_count": 10,
      "outputs": [
        {
          "output_type": "display_data",
          "data": {
            "text/plain": [
              "<Figure size 576x576 with 1 Axes>"
            ],
            "image/png": "[encoded data removed]"
          },
          "metadata": {
            "needs_background": "light"
          }
        }
      ]
    },
    {
      "cell_type": "code",
      "source": [
        "#CONTA MORTES POR MUNICIPIO\n",
        "top_MUN_SRAG = base_2020_SRAG.groupby(by='ID_MUNICIP').size().sort_values(ascending=False)\n",
        "top_MUN_SRAG.value_counts"
      ],
      "metadata": {
        "colab": {
          "base_uri": "https://localhost:8080/"
        },
        "id": "75WJHmLjZ1E4",
        "outputId": "8396c055-b80e-44cf-ee54-e71467f85082"
      },
      "execution_count": 11,
      "outputs": [
        {
          "output_type": "execute_result",
          "data": {
            "text/plain": [
              "<bound method IndexOpsMixin.value_counts of ID_MUNICIP\n",
              "MANAUS                       4053\n",
              "COARI                         133\n",
              "MANACAPURU                    123\n",
              "TEFE                          119\n",
              "PARINTINS                      99\n",
              "ITACOATIARA                    72\n",
              "TABATINGA                      67\n",
              "SAO GABRIEL DA CACHOEIRA       51\n",
              "MAUES                          49\n",
              "BENJAMIN CONSTANT              44\n",
              "HUMAITA                        38\n",
              "LABREA                         36\n",
              "SANTO ANTONIO DO ICA           33\n",
              "SAO PAULO DE OLIVENCA          32\n",
              "AUTAZES                        26\n",
              "IRANDUBA                       23\n",
              "FONTE BOA                      22\n",
              "BARCELOS                       22\n",
              "PRESIDENTE FIGUEIREDO          19\n",
              "BORBA                          19\n",
              "CARAUARI                       18\n",
              "TONANTINS                      17\n",
              "JUTAI                          16\n",
              "SANTA ISABEL DO RIO NEGRO      15\n",
              "GUAJARA                        15\n",
              "NOVA OLINDA DO NORTE           15\n",
              "BOCA DO ACRE                   15\n",
              "ALVARAES                       14\n",
              "BARREIRINHA                    14\n",
              "IPIXUNA                        12\n",
              "EIRUNEPE                       12\n",
              "NHAMUNDA                       12\n",
              "UARINI                         11\n",
              "BERURI                         10\n",
              "ANORI                          10\n",
              "PAUINI                          9\n",
              "NOVO ARIPUANA                   9\n",
              "URUCURITUBA                     9\n",
              "CAREIRO                         8\n",
              "MANAQUIRI                       8\n",
              "AMATURA                         8\n",
              "URUCARA                         7\n",
              "ITAPIRANGA                      7\n",
              "CANUTAMA                        6\n",
              "APUI                            6\n",
              "JURUA                           6\n",
              "CODAJAS                         5\n",
              "SAO SEBASTIAO DO UATUMA         5\n",
              "SILVES                          5\n",
              "BOA VISTA DO RAMOS              5\n",
              "NOVO AIRAO                      5\n",
              "RIO PRETO DA EVA                3\n",
              "MANICORE                        3\n",
              "ITAMARATI                       3\n",
              "CAAPIRANGA                      3\n",
              "TAPAUA                          3\n",
              "ATALAIA DO NORTE                3\n",
              "MARAA                           3\n",
              "ENVIRA                          2\n",
              "JAPURA                          2\n",
              "dtype: int64>"
            ]
          },
          "metadata": {},
          "execution_count": 11
        }
      ]
    },
    {
      "cell_type": "code",
      "source": [
        "#FILTRADO BASE AMAZONAS PARA SOMENTE MUNICIPIO DE MANAUS\n",
        "BASE_2020_SRAG_MANAUS= base_2020_SRAG[base_2020_SRAG['ID_MUNICIP']=='MANAUS']\n",
        "BASE_2020_SRAG_MANAUS.to_csv('/content/drive/MyDrive/colab/baseTCC/div_base_corrigida2020_MANAUS_FILTRO.csv')"
      ],
      "metadata": {
        "id": "Jbg2XlV5bm2Y"
      },
      "execution_count": 12,
      "outputs": []
    },
    {
      "cell_type": "code",
      "source": [
        "#GRAFICO MANAUS\n",
        "import calendar\n",
        "months = ['Jan', 'Feb', 'Mar', 'Apr', 'May', 'Jun', 'Jul', 'Aug', 'Sep', 'Oct', 'Nov', 'Dec']\n",
        "temp = BASE_2020_SRAG_MANAUS['Month'].astype(int).apply(lambda x: calendar.month_abbr[x]).value_counts().reset_index()\n",
        "temp.set_index('index', inplace=True)\n",
        "temp = temp.reindex(index=months)\n",
        "wykres = temp.plot(kind='bar', figsize=(8,8), title=\"Mortos por COVID em Manaus em 2020\")"
      ],
      "metadata": {
        "colab": {
          "base_uri": "https://localhost:8080/",
          "height": 523
        },
        "id": "tCrxdvu8cNR6",
        "outputId": "568294e6-c35a-4eb1-9dae-99eabffc35ec"
      },
      "execution_count": 13,
      "outputs": [
        {
          "output_type": "display_data",
          "data": {
            "text/plain": [
              "<Figure size 576x576 with 1 Axes>"
            ],
            "image/png": "[encoded data removed]"
          },
          "metadata": {
            "needs_background": "light"
          }
        }
      ]
    },
    {
      "cell_type": "code",
      "source": [
        "#MANAUS MORTES HOSPITAIS PUBLICOS\n",
        "#SEPARAR BASE PUBLICA\n",
        "# 1023.0\tpublico | 2062.0\tsociedade empresa limitada | 2054.0\tsociedade anonima fechada | 1031.0\tpublico municipal\n",
        "# 3999.0\tassociacao privada | 1147.0\tfuncadao estadual | 1015.0\tpublico federal | 2011.0\tempresa publica | 2143.0\tcooperativa\n",
        "base_2020_SRAG_AM_COVID_MORTE_PUBLICO = BASE_2020_SRAG_MANAUS.query('CO_NATUREZA_JUR ==2011 | CO_NATUREZA_JUR ==1023| CO_NATUREZA_JUR ==1236| CO_NATUREZA_JUR ==1031| CO_NATUREZA_JUR ==1147| CO_NATUREZA_JUR ==1015' )\n",
        "base_2020_SRAG_AM_COVID_MORTE_PUBLICO.shape[0]"
      ],
      "metadata": {
        "colab": {
          "base_uri": "https://localhost:8080/"
        },
        "id": "45MYI6aXedc2",
        "outputId": "705f7c06-2d65-43f5-d10e-a7a49965f23a"
      },
      "execution_count": 14,
      "outputs": [
        {
          "output_type": "execute_result",
          "data": {
            "text/plain": [
              "3274"
            ]
          },
          "metadata": {},
          "execution_count": 14
        }
      ]
    },
    {
      "cell_type": "code",
      "source": [
        "#GRAFICO MANAUS HOSPITAIS PUBLICOS\n",
        "import calendar\n",
        "months = ['Jan', 'Feb', 'Mar', 'Apr', 'May', 'Jun', 'Jul', 'Aug', 'Sep', 'Oct', 'Nov', 'Dec']\n",
        "temp = base_2020_SRAG_AM_COVID_MORTE_PUBLICO['Month'].astype(int).apply(lambda x: calendar.month_abbr[x]).value_counts().reset_index()\n",
        "temp.set_index('index', inplace=True)\n",
        "temp = temp.reindex(index=months)\n",
        "wykres = temp.plot(kind='bar', figsize=(8,8), title=\"Mortos por COVID em Hospitais Publicos Manaus em 2020\")"
      ],
      "metadata": {
        "colab": {
          "base_uri": "https://localhost:8080/",
          "height": 523
        },
        "id": "9P5W1DcholLt",
        "outputId": "08870e65-5fc4-4294-d5b0-9153ff81564c"
      },
      "execution_count": 15,
      "outputs": [
        {
          "output_type": "display_data",
          "data": {
            "text/plain": [
              "<Figure size 576x576 with 1 Axes>"
            ],
            "image/png": "[encoded data removed]"
          },
          "metadata": {
            "needs_background": "light"
          }
        }
      ]
    },
    {
      "cell_type": "code",
      "source": [
        "# MANAUS MORTES HOSPITAIS PRIVADOS\n",
        "base_2020_SRAG_AM_COVID_MORTE_PRIVADO = BASE_2020_SRAG_MANAUS.query('CO_NATUREZA_JUR !=2011 & CO_NATUREZA_JUR !=1023& CO_NATUREZA_JUR !=1236 & CO_NATUREZA_JUR !=1031 & CO_NATUREZA_JUR !=1147 & CO_NATUREZA_JUR !=1015' )\n",
        "base_2020_SRAG_AM_COVID_MORTE_PRIVADO.shape[0]"
      ],
      "metadata": {
        "colab": {
          "base_uri": "https://localhost:8080/"
        },
        "id": "147X8Lt9qfGi",
        "outputId": "631c6c71-ba70-4f3c-9b7e-b3fd1c68e7d5"
      },
      "execution_count": 16,
      "outputs": [
        {
          "output_type": "execute_result",
          "data": {
            "text/plain": [
              "779"
            ]
          },
          "metadata": {},
          "execution_count": 16
        }
      ]
    },
    {
      "cell_type": "code",
      "source": [
        "#GRAFICO MANAUS HOSPITAIS PUBLICOS\n",
        "import calendar\n",
        "months = ['Jan', 'Feb', 'Mar', 'Apr', 'May', 'Jun', 'Jul', 'Aug', 'Sep', 'Oct', 'Nov', 'Dec']\n",
        "temp = base_2020_SRAG_AM_COVID_MORTE_PRIVADO['Month'].astype(int).apply(lambda x: calendar.month_abbr[x]).value_counts().reset_index()\n",
        "temp.set_index('index', inplace=True)\n",
        "temp = temp.reindex(index=months)\n",
        "wykres = temp.plot(kind='bar', figsize=(8,8), title=\"Mortos por COVID em Hospitais Privados Manaus em 2020\")"
      ],
      "metadata": {
        "colab": {
          "base_uri": "https://localhost:8080/",
          "height": 523
        },
        "id": "fJ6V4-f6rZ6n",
        "outputId": "19add137-03dd-47aa-eeeb-1f2318e92b23"
      },
      "execution_count": 17,
      "outputs": [
        {
          "output_type": "display_data",
          "data": {
            "text/plain": [
              "<Figure size 576x576 with 1 Axes>"
            ],
            "image/png": "[encoded data removed]"
          },
          "metadata": {
            "needs_background": "light"
          }
        }
      ]
    }
  ]
}